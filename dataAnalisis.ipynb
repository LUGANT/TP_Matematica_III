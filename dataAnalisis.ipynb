{
 "cells": [
  {
   "cell_type": "markdown",
   "metadata": {},
   "source": [
    "# Trabajo Practico Matematica III #\n",
    "\n",
    "## Analisis de datos ##\n",
    "\n",
    "La idea de este trabajo practico es el analisis de datos del siguiente archivo con formato .csv  -> **`corredores.csv`**.  \n",
    "\n",
    "El nombre original del archivo era **`categorías de corredores.csv`** pero fue cambiado para acomodarse con la tarea en cuestion.  "
   ]
  },
  {
   "cell_type": "markdown",
   "metadata": {},
   "source": [
    "Antes de iniciar con todo el analisis, es necesario importar todos los modulos necesarios para el trabajo.  \n",
    "\n",
    "*tambien se desactivaron los warnings, de todas formas en los momentos en los que llegue a ocurrir algo indeceado será mencionado*"
   ]
  },
  {
   "cell_type": "code",
   "execution_count": 1,
   "metadata": {},
   "outputs": [],
   "source": [
    "import matplotlib.pyplot as plt\n",
    "import numpy as np\n",
    "import pandas as pd\n",
    "import sklearn as sk\n",
    "from sklearn.impute import SimpleImputer\n",
    "import seaborn as sns\n",
    "from module import dataFrameFunctions as dff\n",
    "import warnings\n",
    "%matplotlib inline\n",
    "#warnings.filterwarnings(action='ignore')"
   ]
  },
  {
   "cell_type": "markdown",
   "metadata": {},
   "source": [
    "Procedemos a incorporar en el proyecto un *dataFrame* de los corredores y visualizamos los primeros 5 elementos, solamente para ver como se ve el *dataFrame*"
   ]
  },
  {
   "cell_type": "code",
   "execution_count": 2,
   "metadata": {},
   "outputs": [
    {
     "data": {
      "text/html": [
       "<div>\n",
       "<style scoped>\n",
       "    .dataframe tbody tr th:only-of-type {\n",
       "        vertical-align: middle;\n",
       "    }\n",
       "\n",
       "    .dataframe tbody tr th {\n",
       "        vertical-align: top;\n",
       "    }\n",
       "\n",
       "    .dataframe thead th {\n",
       "        text-align: right;\n",
       "    }\n",
       "</style>\n",
       "<table border=\"1\" class=\"dataframe\">\n",
       "  <thead>\n",
       "    <tr style=\"text-align: right;\">\n",
       "      <th></th>\n",
       "      <th>Unnamed: 0</th>\n",
       "      <th>place</th>\n",
       "      <th>gender</th>\n",
       "      <th>age</th>\n",
       "      <th>home</th>\n",
       "      <th>time</th>\n",
       "      <th>Velocidad</th>\n",
       "    </tr>\n",
       "  </thead>\n",
       "  <tbody>\n",
       "    <tr>\n",
       "      <th>0</th>\n",
       "      <td>3475</td>\n",
       "      <td>3592</td>\n",
       "      <td>Male</td>\n",
       "      <td>52</td>\n",
       "      <td>GBR</td>\n",
       "      <td>217.483333</td>\n",
       "      <td>Regular</td>\n",
       "    </tr>\n",
       "    <tr>\n",
       "      <th>1</th>\n",
       "      <td>13594</td>\n",
       "      <td>13853</td>\n",
       "      <td>Female</td>\n",
       "      <td>40</td>\n",
       "      <td>NY</td>\n",
       "      <td>272.550000</td>\n",
       "      <td>Regular</td>\n",
       "    </tr>\n",
       "    <tr>\n",
       "      <th>2</th>\n",
       "      <td>12012</td>\n",
       "      <td>12256</td>\n",
       "      <td>Male</td>\n",
       "      <td>31</td>\n",
       "      <td>FRA</td>\n",
       "      <td>265.283333</td>\n",
       "      <td>Regular</td>\n",
       "    </tr>\n",
       "    <tr>\n",
       "      <th>3</th>\n",
       "      <td>10236</td>\n",
       "      <td>10457</td>\n",
       "      <td>Female</td>\n",
       "      <td>33</td>\n",
       "      <td>MI</td>\n",
       "      <td>256.150000</td>\n",
       "      <td>Regular</td>\n",
       "    </tr>\n",
       "    <tr>\n",
       "      <th>4</th>\n",
       "      <td>9476</td>\n",
       "      <td>9686</td>\n",
       "      <td>Male</td>\n",
       "      <td>33</td>\n",
       "      <td>NY</td>\n",
       "      <td>252.250000</td>\n",
       "      <td>Regular</td>\n",
       "    </tr>\n",
       "    <tr>\n",
       "      <th>...</th>\n",
       "      <td>...</td>\n",
       "      <td>...</td>\n",
       "      <td>...</td>\n",
       "      <td>...</td>\n",
       "      <td>...</td>\n",
       "      <td>...</td>\n",
       "      <td>...</td>\n",
       "    </tr>\n",
       "    <tr>\n",
       "      <th>995</th>\n",
       "      <td>15972</td>\n",
       "      <td>16261</td>\n",
       "      <td>Male</td>\n",
       "      <td>61</td>\n",
       "      <td>FRA</td>\n",
       "      <td>285.883333</td>\n",
       "      <td>Regular</td>\n",
       "    </tr>\n",
       "    <tr>\n",
       "      <th>996</th>\n",
       "      <td>1090</td>\n",
       "      <td>1131</td>\n",
       "      <td>Male</td>\n",
       "      <td>37</td>\n",
       "      <td>GBR</td>\n",
       "      <td>191.916667</td>\n",
       "      <td>Veloz</td>\n",
       "    </tr>\n",
       "    <tr>\n",
       "      <th>997</th>\n",
       "      <td>16419</td>\n",
       "      <td>16713</td>\n",
       "      <td>Female</td>\n",
       "      <td>53</td>\n",
       "      <td>IRL</td>\n",
       "      <td>289.016667</td>\n",
       "      <td>Regular</td>\n",
       "    </tr>\n",
       "    <tr>\n",
       "      <th>998</th>\n",
       "      <td>13977</td>\n",
       "      <td>14241</td>\n",
       "      <td>Female</td>\n",
       "      <td>21</td>\n",
       "      <td>NY</td>\n",
       "      <td>276.050000</td>\n",
       "      <td>Regular</td>\n",
       "    </tr>\n",
       "    <tr>\n",
       "      <th>999</th>\n",
       "      <td>8527</td>\n",
       "      <td>8726</td>\n",
       "      <td>Male</td>\n",
       "      <td>55</td>\n",
       "      <td>GER</td>\n",
       "      <td>240.966667</td>\n",
       "      <td>Regular</td>\n",
       "    </tr>\n",
       "  </tbody>\n",
       "</table>\n",
       "<p>1000 rows × 7 columns</p>\n",
       "</div>"
      ],
      "text/plain": [
       "     Unnamed: 0  place  gender  age home        time Velocidad\n",
       "0          3475   3592    Male   52  GBR  217.483333   Regular\n",
       "1         13594  13853  Female   40   NY  272.550000   Regular\n",
       "2         12012  12256    Male   31  FRA  265.283333   Regular\n",
       "3         10236  10457  Female   33   MI  256.150000   Regular\n",
       "4          9476   9686    Male   33   NY  252.250000   Regular\n",
       "..          ...    ...     ...  ...  ...         ...       ...\n",
       "995       15972  16261    Male   61  FRA  285.883333   Regular\n",
       "996        1090   1131    Male   37  GBR  191.916667     Veloz\n",
       "997       16419  16713  Female   53  IRL  289.016667   Regular\n",
       "998       13977  14241  Female   21   NY  276.050000   Regular\n",
       "999        8527   8726    Male   55  GER  240.966667   Regular\n",
       "\n",
       "[1000 rows x 7 columns]"
      ]
     },
     "execution_count": 2,
     "metadata": {},
     "output_type": "execute_result"
    }
   ],
   "source": [
    "dfCorredores = pd.read_csv('corredores.csv')\n",
    "dfCorredores"
   ]
  },
  {
   "cell_type": "markdown",
   "metadata": {},
   "source": [
    "Vemos que hay una columna sin nombre. Para solucionar esto cambiaremos el nombre y haremos algunas modificaciones para mejorar la prolijidad y presentación"
   ]
  },
  {
   "cell_type": "code",
   "execution_count": 3,
   "metadata": {},
   "outputs": [],
   "source": [
    "dfCorredores.rename(columns={\n",
    "    'Unnamed: 0':'ID',\n",
    "    'place':'Place',\n",
    "    'gender':'Gender',\n",
    "    'age':'Age',\n",
    "    'home':'Home',\n",
    "    'time':'Time',\n",
    "    'Velocidad':'Velocity'},\n",
    "    inplace=True)"
   ]
  },
  {
   "cell_type": "markdown",
   "metadata": {},
   "source": [
    "Una vez hecho esto, lo que haremos es hacer un display de los primeros y ultimos 15 corredores, para poder tener una vision general de los datos"
   ]
  },
  {
   "cell_type": "code",
   "execution_count": 4,
   "metadata": {},
   "outputs": [
    {
     "data": {
      "text/html": [
       "<div>\n",
       "<style scoped>\n",
       "    .dataframe tbody tr th:only-of-type {\n",
       "        vertical-align: middle;\n",
       "    }\n",
       "\n",
       "    .dataframe tbody tr th {\n",
       "        vertical-align: top;\n",
       "    }\n",
       "\n",
       "    .dataframe thead th {\n",
       "        text-align: right;\n",
       "    }\n",
       "</style>\n",
       "<table border=\"1\" class=\"dataframe\">\n",
       "  <thead>\n",
       "    <tr style=\"text-align: right;\">\n",
       "      <th></th>\n",
       "      <th>ID</th>\n",
       "      <th>Place</th>\n",
       "      <th>Gender</th>\n",
       "      <th>Age</th>\n",
       "      <th>Home</th>\n",
       "      <th>Time</th>\n",
       "      <th>Velocity</th>\n",
       "    </tr>\n",
       "  </thead>\n",
       "  <tbody>\n",
       "    <tr>\n",
       "      <th>0</th>\n",
       "      <td>3475</td>\n",
       "      <td>3592</td>\n",
       "      <td>Male</td>\n",
       "      <td>52</td>\n",
       "      <td>GBR</td>\n",
       "      <td>217.483333</td>\n",
       "      <td>Regular</td>\n",
       "    </tr>\n",
       "    <tr>\n",
       "      <th>1</th>\n",
       "      <td>13594</td>\n",
       "      <td>13853</td>\n",
       "      <td>Female</td>\n",
       "      <td>40</td>\n",
       "      <td>NY</td>\n",
       "      <td>272.550000</td>\n",
       "      <td>Regular</td>\n",
       "    </tr>\n",
       "    <tr>\n",
       "      <th>2</th>\n",
       "      <td>12012</td>\n",
       "      <td>12256</td>\n",
       "      <td>Male</td>\n",
       "      <td>31</td>\n",
       "      <td>FRA</td>\n",
       "      <td>265.283333</td>\n",
       "      <td>Regular</td>\n",
       "    </tr>\n",
       "    <tr>\n",
       "      <th>3</th>\n",
       "      <td>10236</td>\n",
       "      <td>10457</td>\n",
       "      <td>Female</td>\n",
       "      <td>33</td>\n",
       "      <td>MI</td>\n",
       "      <td>256.150000</td>\n",
       "      <td>Regular</td>\n",
       "    </tr>\n",
       "    <tr>\n",
       "      <th>4</th>\n",
       "      <td>9476</td>\n",
       "      <td>9686</td>\n",
       "      <td>Male</td>\n",
       "      <td>33</td>\n",
       "      <td>NY</td>\n",
       "      <td>252.250000</td>\n",
       "      <td>Regular</td>\n",
       "    </tr>\n",
       "    <tr>\n",
       "      <th>5</th>\n",
       "      <td>1720</td>\n",
       "      <td>1784</td>\n",
       "      <td>Male</td>\n",
       "      <td>40</td>\n",
       "      <td>NJ</td>\n",
       "      <td>201.966667</td>\n",
       "      <td>Regular</td>\n",
       "    </tr>\n",
       "    <tr>\n",
       "      <th>6</th>\n",
       "      <td>15736</td>\n",
       "      <td>16020</td>\n",
       "      <td>Female</td>\n",
       "      <td>30</td>\n",
       "      <td>CA</td>\n",
       "      <td>283.566667</td>\n",
       "      <td>Regular</td>\n",
       "    </tr>\n",
       "    <tr>\n",
       "      <th>7</th>\n",
       "      <td>10580</td>\n",
       "      <td>10805</td>\n",
       "      <td>Male</td>\n",
       "      <td>27</td>\n",
       "      <td>GBR</td>\n",
       "      <td>255.883333</td>\n",
       "      <td>Regular</td>\n",
       "    </tr>\n",
       "    <tr>\n",
       "      <th>8</th>\n",
       "      <td>11957</td>\n",
       "      <td>12201</td>\n",
       "      <td>Male</td>\n",
       "      <td>42</td>\n",
       "      <td>NED</td>\n",
       "      <td>264.250000</td>\n",
       "      <td>Regular</td>\n",
       "    </tr>\n",
       "    <tr>\n",
       "      <th>9</th>\n",
       "      <td>18933</td>\n",
       "      <td>19266</td>\n",
       "      <td>Male</td>\n",
       "      <td>48</td>\n",
       "      <td>B.C</td>\n",
       "      <td>306.683333</td>\n",
       "      <td>Lento</td>\n",
       "    </tr>\n",
       "    <tr>\n",
       "      <th>10</th>\n",
       "      <td>14956</td>\n",
       "      <td>15229</td>\n",
       "      <td>Female</td>\n",
       "      <td>63</td>\n",
       "      <td>GBR</td>\n",
       "      <td>281.266667</td>\n",
       "      <td>Regular</td>\n",
       "    </tr>\n",
       "    <tr>\n",
       "      <th>11</th>\n",
       "      <td>14987</td>\n",
       "      <td>15260</td>\n",
       "      <td>Male</td>\n",
       "      <td>49</td>\n",
       "      <td>ITA</td>\n",
       "      <td>280.250000</td>\n",
       "      <td>Regular</td>\n",
       "    </tr>\n",
       "    <tr>\n",
       "      <th>12</th>\n",
       "      <td>10447</td>\n",
       "      <td>10670</td>\n",
       "      <td>Male</td>\n",
       "      <td>33</td>\n",
       "      <td>NY</td>\n",
       "      <td>258.333333</td>\n",
       "      <td>Regular</td>\n",
       "    </tr>\n",
       "    <tr>\n",
       "      <th>13</th>\n",
       "      <td>10435</td>\n",
       "      <td>10658</td>\n",
       "      <td>Male</td>\n",
       "      <td>43</td>\n",
       "      <td>NY</td>\n",
       "      <td>257.133333</td>\n",
       "      <td>Regular</td>\n",
       "    </tr>\n",
       "    <tr>\n",
       "      <th>14</th>\n",
       "      <td>191</td>\n",
       "      <td>200</td>\n",
       "      <td>Male</td>\n",
       "      <td>40</td>\n",
       "      <td>GER</td>\n",
       "      <td>163.933333</td>\n",
       "      <td>Veloz</td>\n",
       "    </tr>\n",
       "  </tbody>\n",
       "</table>\n",
       "</div>"
      ],
      "text/plain": [
       "       ID  Place  Gender  Age Home        Time Velocity\n",
       "0    3475   3592    Male   52  GBR  217.483333  Regular\n",
       "1   13594  13853  Female   40   NY  272.550000  Regular\n",
       "2   12012  12256    Male   31  FRA  265.283333  Regular\n",
       "3   10236  10457  Female   33   MI  256.150000  Regular\n",
       "4    9476   9686    Male   33   NY  252.250000  Regular\n",
       "5    1720   1784    Male   40   NJ  201.966667  Regular\n",
       "6   15736  16020  Female   30   CA  283.566667  Regular\n",
       "7   10580  10805    Male   27  GBR  255.883333  Regular\n",
       "8   11957  12201    Male   42  NED  264.250000  Regular\n",
       "9   18933  19266    Male   48  B.C  306.683333    Lento\n",
       "10  14956  15229  Female   63  GBR  281.266667  Regular\n",
       "11  14987  15260    Male   49  ITA  280.250000  Regular\n",
       "12  10447  10670    Male   33   NY  258.333333  Regular\n",
       "13  10435  10658    Male   43   NY  257.133333  Regular\n",
       "14    191    200    Male   40  GER  163.933333    Veloz"
      ]
     },
     "execution_count": 4,
     "metadata": {},
     "output_type": "execute_result"
    }
   ],
   "source": [
    "dfCorredores.head(n=15)"
   ]
  },
  {
   "cell_type": "code",
   "execution_count": 5,
   "metadata": {},
   "outputs": [
    {
     "data": {
      "text/html": [
       "<div>\n",
       "<style scoped>\n",
       "    .dataframe tbody tr th:only-of-type {\n",
       "        vertical-align: middle;\n",
       "    }\n",
       "\n",
       "    .dataframe tbody tr th {\n",
       "        vertical-align: top;\n",
       "    }\n",
       "\n",
       "    .dataframe thead th {\n",
       "        text-align: right;\n",
       "    }\n",
       "</style>\n",
       "<table border=\"1\" class=\"dataframe\">\n",
       "  <thead>\n",
       "    <tr style=\"text-align: right;\">\n",
       "      <th></th>\n",
       "      <th>ID</th>\n",
       "      <th>Place</th>\n",
       "      <th>Gender</th>\n",
       "      <th>Age</th>\n",
       "      <th>Home</th>\n",
       "      <th>Time</th>\n",
       "      <th>Velocity</th>\n",
       "    </tr>\n",
       "  </thead>\n",
       "  <tbody>\n",
       "    <tr>\n",
       "      <th>985</th>\n",
       "      <td>20530</td>\n",
       "      <td>20877</td>\n",
       "      <td>Male</td>\n",
       "      <td>29</td>\n",
       "      <td>SUI</td>\n",
       "      <td>324.666667</td>\n",
       "      <td>Lento</td>\n",
       "    </tr>\n",
       "    <tr>\n",
       "      <th>986</th>\n",
       "      <td>13981</td>\n",
       "      <td>14245</td>\n",
       "      <td>Male</td>\n",
       "      <td>40</td>\n",
       "      <td>MA</td>\n",
       "      <td>273.700000</td>\n",
       "      <td>Regular</td>\n",
       "    </tr>\n",
       "    <tr>\n",
       "      <th>987</th>\n",
       "      <td>13190</td>\n",
       "      <td>13446</td>\n",
       "      <td>Female</td>\n",
       "      <td>37</td>\n",
       "      <td>IN</td>\n",
       "      <td>267.633333</td>\n",
       "      <td>Regular</td>\n",
       "    </tr>\n",
       "    <tr>\n",
       "      <th>988</th>\n",
       "      <td>1038</td>\n",
       "      <td>1079</td>\n",
       "      <td>Male</td>\n",
       "      <td>40</td>\n",
       "      <td>NED</td>\n",
       "      <td>191.316667</td>\n",
       "      <td>Veloz</td>\n",
       "    </tr>\n",
       "    <tr>\n",
       "      <th>989</th>\n",
       "      <td>13752</td>\n",
       "      <td>14013</td>\n",
       "      <td>Male</td>\n",
       "      <td>49</td>\n",
       "      <td>ITA</td>\n",
       "      <td>273.033333</td>\n",
       "      <td>Regular</td>\n",
       "    </tr>\n",
       "    <tr>\n",
       "      <th>990</th>\n",
       "      <td>23273</td>\n",
       "      <td>23645</td>\n",
       "      <td>Female</td>\n",
       "      <td>46</td>\n",
       "      <td>NY</td>\n",
       "      <td>501.550000</td>\n",
       "      <td>Lento</td>\n",
       "    </tr>\n",
       "    <tr>\n",
       "      <th>991</th>\n",
       "      <td>15901</td>\n",
       "      <td>16189</td>\n",
       "      <td>Female</td>\n",
       "      <td>51</td>\n",
       "      <td>TN</td>\n",
       "      <td>285.350000</td>\n",
       "      <td>Regular</td>\n",
       "    </tr>\n",
       "    <tr>\n",
       "      <th>992</th>\n",
       "      <td>14889</td>\n",
       "      <td>15162</td>\n",
       "      <td>Female</td>\n",
       "      <td>50</td>\n",
       "      <td>GER</td>\n",
       "      <td>278.116667</td>\n",
       "      <td>Regular</td>\n",
       "    </tr>\n",
       "    <tr>\n",
       "      <th>993</th>\n",
       "      <td>11547</td>\n",
       "      <td>11784</td>\n",
       "      <td>Female</td>\n",
       "      <td>40</td>\n",
       "      <td>NY</td>\n",
       "      <td>263.383333</td>\n",
       "      <td>Regular</td>\n",
       "    </tr>\n",
       "    <tr>\n",
       "      <th>994</th>\n",
       "      <td>4079</td>\n",
       "      <td>4206</td>\n",
       "      <td>Male</td>\n",
       "      <td>27</td>\n",
       "      <td>CAN</td>\n",
       "      <td>223.333333</td>\n",
       "      <td>Regular</td>\n",
       "    </tr>\n",
       "    <tr>\n",
       "      <th>995</th>\n",
       "      <td>15972</td>\n",
       "      <td>16261</td>\n",
       "      <td>Male</td>\n",
       "      <td>61</td>\n",
       "      <td>FRA</td>\n",
       "      <td>285.883333</td>\n",
       "      <td>Regular</td>\n",
       "    </tr>\n",
       "    <tr>\n",
       "      <th>996</th>\n",
       "      <td>1090</td>\n",
       "      <td>1131</td>\n",
       "      <td>Male</td>\n",
       "      <td>37</td>\n",
       "      <td>GBR</td>\n",
       "      <td>191.916667</td>\n",
       "      <td>Veloz</td>\n",
       "    </tr>\n",
       "    <tr>\n",
       "      <th>997</th>\n",
       "      <td>16419</td>\n",
       "      <td>16713</td>\n",
       "      <td>Female</td>\n",
       "      <td>53</td>\n",
       "      <td>IRL</td>\n",
       "      <td>289.016667</td>\n",
       "      <td>Regular</td>\n",
       "    </tr>\n",
       "    <tr>\n",
       "      <th>998</th>\n",
       "      <td>13977</td>\n",
       "      <td>14241</td>\n",
       "      <td>Female</td>\n",
       "      <td>21</td>\n",
       "      <td>NY</td>\n",
       "      <td>276.050000</td>\n",
       "      <td>Regular</td>\n",
       "    </tr>\n",
       "    <tr>\n",
       "      <th>999</th>\n",
       "      <td>8527</td>\n",
       "      <td>8726</td>\n",
       "      <td>Male</td>\n",
       "      <td>55</td>\n",
       "      <td>GER</td>\n",
       "      <td>240.966667</td>\n",
       "      <td>Regular</td>\n",
       "    </tr>\n",
       "  </tbody>\n",
       "</table>\n",
       "</div>"
      ],
      "text/plain": [
       "        ID  Place  Gender  Age Home        Time Velocity\n",
       "985  20530  20877    Male   29  SUI  324.666667    Lento\n",
       "986  13981  14245    Male   40   MA  273.700000  Regular\n",
       "987  13190  13446  Female   37   IN  267.633333  Regular\n",
       "988   1038   1079    Male   40  NED  191.316667    Veloz\n",
       "989  13752  14013    Male   49  ITA  273.033333  Regular\n",
       "990  23273  23645  Female   46   NY  501.550000    Lento\n",
       "991  15901  16189  Female   51   TN  285.350000  Regular\n",
       "992  14889  15162  Female   50  GER  278.116667  Regular\n",
       "993  11547  11784  Female   40   NY  263.383333  Regular\n",
       "994   4079   4206    Male   27  CAN  223.333333  Regular\n",
       "995  15972  16261    Male   61  FRA  285.883333  Regular\n",
       "996   1090   1131    Male   37  GBR  191.916667    Veloz\n",
       "997  16419  16713  Female   53  IRL  289.016667  Regular\n",
       "998  13977  14241  Female   21   NY  276.050000  Regular\n",
       "999   8527   8726    Male   55  GER  240.966667  Regular"
      ]
     },
     "execution_count": 5,
     "metadata": {},
     "output_type": "execute_result"
    }
   ],
   "source": [
    "dfCorredores.tail(n=15)"
   ]
  },
  {
   "cell_type": "markdown",
   "metadata": {},
   "source": [
    "## Analisis de las columnas\n",
    "\n",
    "- ID - id del corredor\n",
    "- Place - posicion del corredor\n",
    "- Gender - genero del corredor\n",
    "- Age - edad del corredor\n",
    "- Home - pais del corredor\n",
    "- Time - tiempo total en completar la carrera\n",
    "- Velocity - velocidad en la que fueron\n",
    "\n",
    "Una cosa que se ve es que la velocidad del corredor es dependiente del tiempo que tardo en completar la carrera.  \n",
    "\n",
    "- Si el corredor tuvo un **tiempo mayor o igual a 300**, es considerado **Lento**  \n",
    "- Si el corredor tuvo un **tiempo mayor o igual a 200**, es considerado **Regular**  \n",
    "- Si el corredor tuvo un **tiempo menor a 200**, es considerado **Veloz**"
   ]
  },
  {
   "cell_type": "markdown",
   "metadata": {},
   "source": [
    "## Limpieza de datos\n",
    "\n",
    "Vamos a eliminar los datos que cumplan el rol de numerar o de indicar un orden, este sería el ID"
   ]
  },
  {
   "cell_type": "code",
   "execution_count": 6,
   "metadata": {},
   "outputs": [
    {
     "data": {
      "text/html": [
       "<div>\n",
       "<style scoped>\n",
       "    .dataframe tbody tr th:only-of-type {\n",
       "        vertical-align: middle;\n",
       "    }\n",
       "\n",
       "    .dataframe tbody tr th {\n",
       "        vertical-align: top;\n",
       "    }\n",
       "\n",
       "    .dataframe thead th {\n",
       "        text-align: right;\n",
       "    }\n",
       "</style>\n",
       "<table border=\"1\" class=\"dataframe\">\n",
       "  <thead>\n",
       "    <tr style=\"text-align: right;\">\n",
       "      <th></th>\n",
       "      <th>Place</th>\n",
       "      <th>Gender</th>\n",
       "      <th>Age</th>\n",
       "      <th>Home</th>\n",
       "      <th>Time</th>\n",
       "      <th>Velocity</th>\n",
       "    </tr>\n",
       "  </thead>\n",
       "  <tbody>\n",
       "    <tr>\n",
       "      <th>0</th>\n",
       "      <td>3592</td>\n",
       "      <td>Male</td>\n",
       "      <td>52</td>\n",
       "      <td>GBR</td>\n",
       "      <td>217.483333</td>\n",
       "      <td>Regular</td>\n",
       "    </tr>\n",
       "    <tr>\n",
       "      <th>1</th>\n",
       "      <td>13853</td>\n",
       "      <td>Female</td>\n",
       "      <td>40</td>\n",
       "      <td>NY</td>\n",
       "      <td>272.550000</td>\n",
       "      <td>Regular</td>\n",
       "    </tr>\n",
       "    <tr>\n",
       "      <th>2</th>\n",
       "      <td>12256</td>\n",
       "      <td>Male</td>\n",
       "      <td>31</td>\n",
       "      <td>FRA</td>\n",
       "      <td>265.283333</td>\n",
       "      <td>Regular</td>\n",
       "    </tr>\n",
       "    <tr>\n",
       "      <th>3</th>\n",
       "      <td>10457</td>\n",
       "      <td>Female</td>\n",
       "      <td>33</td>\n",
       "      <td>MI</td>\n",
       "      <td>256.150000</td>\n",
       "      <td>Regular</td>\n",
       "    </tr>\n",
       "    <tr>\n",
       "      <th>4</th>\n",
       "      <td>9686</td>\n",
       "      <td>Male</td>\n",
       "      <td>33</td>\n",
       "      <td>NY</td>\n",
       "      <td>252.250000</td>\n",
       "      <td>Regular</td>\n",
       "    </tr>\n",
       "    <tr>\n",
       "      <th>...</th>\n",
       "      <td>...</td>\n",
       "      <td>...</td>\n",
       "      <td>...</td>\n",
       "      <td>...</td>\n",
       "      <td>...</td>\n",
       "      <td>...</td>\n",
       "    </tr>\n",
       "    <tr>\n",
       "      <th>995</th>\n",
       "      <td>16261</td>\n",
       "      <td>Male</td>\n",
       "      <td>61</td>\n",
       "      <td>FRA</td>\n",
       "      <td>285.883333</td>\n",
       "      <td>Regular</td>\n",
       "    </tr>\n",
       "    <tr>\n",
       "      <th>996</th>\n",
       "      <td>1131</td>\n",
       "      <td>Male</td>\n",
       "      <td>37</td>\n",
       "      <td>GBR</td>\n",
       "      <td>191.916667</td>\n",
       "      <td>Veloz</td>\n",
       "    </tr>\n",
       "    <tr>\n",
       "      <th>997</th>\n",
       "      <td>16713</td>\n",
       "      <td>Female</td>\n",
       "      <td>53</td>\n",
       "      <td>IRL</td>\n",
       "      <td>289.016667</td>\n",
       "      <td>Regular</td>\n",
       "    </tr>\n",
       "    <tr>\n",
       "      <th>998</th>\n",
       "      <td>14241</td>\n",
       "      <td>Female</td>\n",
       "      <td>21</td>\n",
       "      <td>NY</td>\n",
       "      <td>276.050000</td>\n",
       "      <td>Regular</td>\n",
       "    </tr>\n",
       "    <tr>\n",
       "      <th>999</th>\n",
       "      <td>8726</td>\n",
       "      <td>Male</td>\n",
       "      <td>55</td>\n",
       "      <td>GER</td>\n",
       "      <td>240.966667</td>\n",
       "      <td>Regular</td>\n",
       "    </tr>\n",
       "  </tbody>\n",
       "</table>\n",
       "<p>1000 rows × 6 columns</p>\n",
       "</div>"
      ],
      "text/plain": [
       "     Place  Gender  Age Home        Time Velocity\n",
       "0     3592    Male   52  GBR  217.483333  Regular\n",
       "1    13853  Female   40   NY  272.550000  Regular\n",
       "2    12256    Male   31  FRA  265.283333  Regular\n",
       "3    10457  Female   33   MI  256.150000  Regular\n",
       "4     9686    Male   33   NY  252.250000  Regular\n",
       "..     ...     ...  ...  ...         ...      ...\n",
       "995  16261    Male   61  FRA  285.883333  Regular\n",
       "996   1131    Male   37  GBR  191.916667    Veloz\n",
       "997  16713  Female   53  IRL  289.016667  Regular\n",
       "998  14241  Female   21   NY  276.050000  Regular\n",
       "999   8726    Male   55  GER  240.966667  Regular\n",
       "\n",
       "[1000 rows x 6 columns]"
      ]
     },
     "execution_count": 6,
     "metadata": {},
     "output_type": "execute_result"
    }
   ],
   "source": [
    "dfScrappedCorredores = dfCorredores.copy()\n",
    "dfScrappedCorredores.pop('ID')\n",
    "dfScrappedCorredores"
   ]
  },
  {
   "cell_type": "markdown",
   "metadata": {},
   "source": [
    "## Analisis de los datos\n",
    "\n",
    "Por lo que se puede apreciar, ahora podemos hacer, por ejemplo un describe de las columnas que presenta el *dataFrame*"
   ]
  },
  {
   "cell_type": "markdown",
   "metadata": {},
   "source": [
    "### Describe()"
   ]
  },
  {
   "cell_type": "code",
   "execution_count": 7,
   "metadata": {},
   "outputs": [
    {
     "data": {
      "text/html": [
       "<div>\n",
       "<style scoped>\n",
       "    .dataframe tbody tr th:only-of-type {\n",
       "        vertical-align: middle;\n",
       "    }\n",
       "\n",
       "    .dataframe tbody tr th {\n",
       "        vertical-align: top;\n",
       "    }\n",
       "\n",
       "    .dataframe thead th {\n",
       "        text-align: right;\n",
       "    }\n",
       "</style>\n",
       "<table border=\"1\" class=\"dataframe\">\n",
       "  <thead>\n",
       "    <tr style=\"text-align: right;\">\n",
       "      <th></th>\n",
       "      <th>Place</th>\n",
       "      <th>Age</th>\n",
       "      <th>Time</th>\n",
       "    </tr>\n",
       "  </thead>\n",
       "  <tbody>\n",
       "    <tr>\n",
       "      <th>count</th>\n",
       "      <td>1000.000000</td>\n",
       "      <td>1000.000000</td>\n",
       "      <td>1000.000000</td>\n",
       "    </tr>\n",
       "    <tr>\n",
       "      <th>mean</th>\n",
       "      <td>11992.319000</td>\n",
       "      <td>39.100000</td>\n",
       "      <td>268.570700</td>\n",
       "    </tr>\n",
       "    <tr>\n",
       "      <th>std</th>\n",
       "      <td>6858.858466</td>\n",
       "      <td>10.675391</td>\n",
       "      <td>53.550743</td>\n",
       "    </tr>\n",
       "    <tr>\n",
       "      <th>min</th>\n",
       "      <td>54.000000</td>\n",
       "      <td>5.000000</td>\n",
       "      <td>147.333333</td>\n",
       "    </tr>\n",
       "    <tr>\n",
       "      <th>25%</th>\n",
       "      <td>6095.000000</td>\n",
       "      <td>31.000000</td>\n",
       "      <td>233.775000</td>\n",
       "    </tr>\n",
       "    <tr>\n",
       "      <th>50%</th>\n",
       "      <td>11962.000000</td>\n",
       "      <td>38.000000</td>\n",
       "      <td>262.841667</td>\n",
       "    </tr>\n",
       "    <tr>\n",
       "      <th>75%</th>\n",
       "      <td>17921.750000</td>\n",
       "      <td>46.000000</td>\n",
       "      <td>294.854167</td>\n",
       "    </tr>\n",
       "    <tr>\n",
       "      <th>max</th>\n",
       "      <td>23662.000000</td>\n",
       "      <td>81.000000</td>\n",
       "      <td>566.783333</td>\n",
       "    </tr>\n",
       "  </tbody>\n",
       "</table>\n",
       "</div>"
      ],
      "text/plain": [
       "              Place          Age         Time\n",
       "count   1000.000000  1000.000000  1000.000000\n",
       "mean   11992.319000    39.100000   268.570700\n",
       "std     6858.858466    10.675391    53.550743\n",
       "min       54.000000     5.000000   147.333333\n",
       "25%     6095.000000    31.000000   233.775000\n",
       "50%    11962.000000    38.000000   262.841667\n",
       "75%    17921.750000    46.000000   294.854167\n",
       "max    23662.000000    81.000000   566.783333"
      ]
     },
     "execution_count": 7,
     "metadata": {},
     "output_type": "execute_result"
    }
   ],
   "source": [
    "dfScrappedCorredores.describe()"
   ]
  },
  {
   "cell_type": "markdown",
   "metadata": {},
   "source": [
    "Podemos observar Algunos datos relevantes, existe un promedio al respecto de la **edad**, la **posicion** y el **tiempo** de cada partipante.  \n",
    "Respecto a la edad vemos el promedio, que es **39 años**  \n",
    "Sobre el tiempo, podemos observar que el tiempo promedio de los corredores fue de **268**"
   ]
  },
  {
   "cell_type": "markdown",
   "metadata": {},
   "source": [
    "### Shape"
   ]
  },
  {
   "cell_type": "code",
   "execution_count": 8,
   "metadata": {},
   "outputs": [
    {
     "data": {
      "text/plain": [
       "(1000, 6)"
      ]
     },
     "execution_count": 8,
     "metadata": {},
     "output_type": "execute_result"
    }
   ],
   "source": [
    "dfScrappedCorredores.shape"
   ]
  },
  {
   "cell_type": "markdown",
   "metadata": {},
   "source": [
    "### NaN o Null\n",
    "\n",
    "Corroboremos si es que existe algunos datos *nulos* o *NaN* en el *dataFrame*"
   ]
  },
  {
   "cell_type": "code",
   "execution_count": 9,
   "metadata": {},
   "outputs": [
    {
     "data": {
      "text/plain": [
       "Place       False\n",
       "Gender      False\n",
       "Age         False\n",
       "Home         True\n",
       "Time        False\n",
       "Velocity    False\n",
       "dtype: bool"
      ]
     },
     "execution_count": 9,
     "metadata": {},
     "output_type": "execute_result"
    }
   ],
   "source": [
    "dfScrappedCorredores.isnull().any()"
   ]
  },
  {
   "cell_type": "markdown",
   "metadata": {},
   "source": [
    "Como existen algunos datos nulos vamos a proceder a sacarlos de la lista"
   ]
  },
  {
   "cell_type": "code",
   "execution_count": 10,
   "metadata": {},
   "outputs": [
    {
     "data": {
      "text/html": [
       "<div>\n",
       "<style scoped>\n",
       "    .dataframe tbody tr th:only-of-type {\n",
       "        vertical-align: middle;\n",
       "    }\n",
       "\n",
       "    .dataframe tbody tr th {\n",
       "        vertical-align: top;\n",
       "    }\n",
       "\n",
       "    .dataframe thead th {\n",
       "        text-align: right;\n",
       "    }\n",
       "</style>\n",
       "<table border=\"1\" class=\"dataframe\">\n",
       "  <thead>\n",
       "    <tr style=\"text-align: right;\">\n",
       "      <th></th>\n",
       "      <th>Place</th>\n",
       "      <th>Gender</th>\n",
       "      <th>Age</th>\n",
       "      <th>Home</th>\n",
       "      <th>Time</th>\n",
       "      <th>Velocity</th>\n",
       "    </tr>\n",
       "  </thead>\n",
       "  <tbody>\n",
       "    <tr>\n",
       "      <th>0</th>\n",
       "      <td>3592</td>\n",
       "      <td>Male</td>\n",
       "      <td>52</td>\n",
       "      <td>GBR</td>\n",
       "      <td>217.483333</td>\n",
       "      <td>Regular</td>\n",
       "    </tr>\n",
       "    <tr>\n",
       "      <th>1</th>\n",
       "      <td>13853</td>\n",
       "      <td>Female</td>\n",
       "      <td>40</td>\n",
       "      <td>NY</td>\n",
       "      <td>272.550000</td>\n",
       "      <td>Regular</td>\n",
       "    </tr>\n",
       "    <tr>\n",
       "      <th>2</th>\n",
       "      <td>12256</td>\n",
       "      <td>Male</td>\n",
       "      <td>31</td>\n",
       "      <td>FRA</td>\n",
       "      <td>265.283333</td>\n",
       "      <td>Regular</td>\n",
       "    </tr>\n",
       "    <tr>\n",
       "      <th>3</th>\n",
       "      <td>10457</td>\n",
       "      <td>Female</td>\n",
       "      <td>33</td>\n",
       "      <td>MI</td>\n",
       "      <td>256.150000</td>\n",
       "      <td>Regular</td>\n",
       "    </tr>\n",
       "    <tr>\n",
       "      <th>4</th>\n",
       "      <td>9686</td>\n",
       "      <td>Male</td>\n",
       "      <td>33</td>\n",
       "      <td>NY</td>\n",
       "      <td>252.250000</td>\n",
       "      <td>Regular</td>\n",
       "    </tr>\n",
       "    <tr>\n",
       "      <th>...</th>\n",
       "      <td>...</td>\n",
       "      <td>...</td>\n",
       "      <td>...</td>\n",
       "      <td>...</td>\n",
       "      <td>...</td>\n",
       "      <td>...</td>\n",
       "    </tr>\n",
       "    <tr>\n",
       "      <th>995</th>\n",
       "      <td>16261</td>\n",
       "      <td>Male</td>\n",
       "      <td>61</td>\n",
       "      <td>FRA</td>\n",
       "      <td>285.883333</td>\n",
       "      <td>Regular</td>\n",
       "    </tr>\n",
       "    <tr>\n",
       "      <th>996</th>\n",
       "      <td>1131</td>\n",
       "      <td>Male</td>\n",
       "      <td>37</td>\n",
       "      <td>GBR</td>\n",
       "      <td>191.916667</td>\n",
       "      <td>Veloz</td>\n",
       "    </tr>\n",
       "    <tr>\n",
       "      <th>997</th>\n",
       "      <td>16713</td>\n",
       "      <td>Female</td>\n",
       "      <td>53</td>\n",
       "      <td>IRL</td>\n",
       "      <td>289.016667</td>\n",
       "      <td>Regular</td>\n",
       "    </tr>\n",
       "    <tr>\n",
       "      <th>998</th>\n",
       "      <td>14241</td>\n",
       "      <td>Female</td>\n",
       "      <td>21</td>\n",
       "      <td>NY</td>\n",
       "      <td>276.050000</td>\n",
       "      <td>Regular</td>\n",
       "    </tr>\n",
       "    <tr>\n",
       "      <th>999</th>\n",
       "      <td>8726</td>\n",
       "      <td>Male</td>\n",
       "      <td>55</td>\n",
       "      <td>GER</td>\n",
       "      <td>240.966667</td>\n",
       "      <td>Regular</td>\n",
       "    </tr>\n",
       "  </tbody>\n",
       "</table>\n",
       "<p>999 rows × 6 columns</p>\n",
       "</div>"
      ],
      "text/plain": [
       "     Place  Gender  Age Home        Time Velocity\n",
       "0     3592    Male   52  GBR  217.483333  Regular\n",
       "1    13853  Female   40   NY  272.550000  Regular\n",
       "2    12256    Male   31  FRA  265.283333  Regular\n",
       "3    10457  Female   33   MI  256.150000  Regular\n",
       "4     9686    Male   33   NY  252.250000  Regular\n",
       "..     ...     ...  ...  ...         ...      ...\n",
       "995  16261    Male   61  FRA  285.883333  Regular\n",
       "996   1131    Male   37  GBR  191.916667    Veloz\n",
       "997  16713  Female   53  IRL  289.016667  Regular\n",
       "998  14241  Female   21   NY  276.050000  Regular\n",
       "999   8726    Male   55  GER  240.966667  Regular\n",
       "\n",
       "[999 rows x 6 columns]"
      ]
     },
     "execution_count": 10,
     "metadata": {},
     "output_type": "execute_result"
    }
   ],
   "source": [
    "\n",
    "dfScrappedCorredores = dfScrappedCorredores.dropna(axis=0,how='any')\n",
    "dfScrappedCorredores"
   ]
  },
  {
   "cell_type": "markdown",
   "metadata": {},
   "source": [
    "Corroboro que no existen datos nulos"
   ]
  },
  {
   "cell_type": "code",
   "execution_count": 11,
   "metadata": {},
   "outputs": [
    {
     "data": {
      "text/plain": [
       "Place       False\n",
       "Gender      False\n",
       "Age         False\n",
       "Home        False\n",
       "Time        False\n",
       "Velocity    False\n",
       "dtype: bool"
      ]
     },
     "execution_count": 11,
     "metadata": {},
     "output_type": "execute_result"
    }
   ],
   "source": [
    "dfScrappedCorredores.isnull().any()"
   ]
  },
  {
   "cell_type": "markdown",
   "metadata": {},
   "source": [
    "# Analisis en Pandas\n",
    "\n",
    "Antes de llegar a hacer un analisis utilizando librerias como skylearn, vamos a trabajar con lo que ya tenemos.\n",
    "\n",
    "## Vista previa antes prediccion de datos\n",
    "\n",
    "Ahora vamos a hacer un avistamientos de estos datos extrallendo cosas que nos resulten interesantes\n",
    "\n",
    "### Cantidad de competidores segun su velocidad\n",
    "\n",
    "Tomaremos la cantidad de competidores segun la velocidad a la que fueron clasificadas en la carrera"
   ]
  },
  {
   "cell_type": "code",
   "execution_count": 12,
   "metadata": {},
   "outputs": [
    {
     "data": {
      "text/plain": [
       "array([ 68, 719, 213], dtype=int16)"
      ]
     },
     "execution_count": 12,
     "metadata": {},
     "output_type": "execute_result"
    }
   ],
   "source": [
    "\"\"\"\n",
    "Utilizaremos un modulo llamado Modules.\n",
    "Esta es un modulo personalizado para tomar funciones directamente de sus paquetes\n",
    "El que utilizaremos se llama dataFrameFunctions que tiene funciones que se aplican directamente a una serie o un dataFrame\n",
    "---------------------------------------------------------------------------------------------------------------------------\n",
    "Ahora, la funcion que usaremos se llama countValuesInSerie, que nos devolvera la cantidad de elementos de una serie\n",
    "tomando en cuenta las veces que aparesca en la serie.\n",
    "Ya la fución se encuentra documentada, si desea corroborar al contenido puede entrar directamente al documento en cuestion\n",
    "---------------------------------------------------------------------------------------------------------------------------\n",
    "Tomaremos la cantidad de corredores dependiendo de si fueron veloces, lentos o regulares\n",
    "\"\"\"\n",
    "corredoresVeloces = dff.countValuesInSerie(serie= dfCorredores.Velocity,dataInSerie='Veloz')\n",
    "corredoresLentos = dff.countValuesInSerie(serie= dfCorredores.Velocity,dataInSerie='Lento')\n",
    "corredoresRegulares = dff.countValuesInSerie(serie= dfCorredores.Velocity,dataInSerie='Regular')\n",
    "\n",
    "\"\"\"\n",
    "Acá estoy colocando estos datos en un array de numpy. \n",
    "Esto lo vamos a usar mas adelante\n",
    "lo definimos de tipo int16 porque el tamaño de los datos no son muy grandes, podemos permitirlo\n",
    "\"\"\"\n",
    "cantCorredoresVelocidad = np.array([corredoresVeloces,corredoresRegulares,corredoresLentos], dtype='int16')\n",
    "cantCorredoresVelocidad"
   ]
  },
  {
   "cell_type": "markdown",
   "metadata": {},
   "source": [
    "Como podemos ver, tenemos los datos de la cantidad de corredores separados por su categoria de velocidad.  \n",
    "Veamoslo esto en un grafico."
   ]
  },
  {
   "cell_type": "code",
   "execution_count": 13,
   "metadata": {},
   "outputs": [
    {
     "data": {
      "text/html": [
       "<div>\n",
       "<style scoped>\n",
       "    .dataframe tbody tr th:only-of-type {\n",
       "        vertical-align: middle;\n",
       "    }\n",
       "\n",
       "    .dataframe tbody tr th {\n",
       "        vertical-align: top;\n",
       "    }\n",
       "\n",
       "    .dataframe thead th {\n",
       "        text-align: right;\n",
       "    }\n",
       "</style>\n",
       "<table border=\"1\" class=\"dataframe\">\n",
       "  <thead>\n",
       "    <tr style=\"text-align: right;\">\n",
       "      <th></th>\n",
       "      <th>Categoria de Corredores</th>\n",
       "    </tr>\n",
       "  </thead>\n",
       "  <tbody>\n",
       "    <tr>\n",
       "      <th>Veloz</th>\n",
       "      <td>68</td>\n",
       "    </tr>\n",
       "    <tr>\n",
       "      <th>Regular</th>\n",
       "      <td>719</td>\n",
       "    </tr>\n",
       "    <tr>\n",
       "      <th>Lento</th>\n",
       "      <td>213</td>\n",
       "    </tr>\n",
       "  </tbody>\n",
       "</table>\n",
       "</div>"
      ],
      "text/plain": [
       "         Categoria de Corredores\n",
       "Veloz                         68\n",
       "Regular                      719\n",
       "Lento                        213"
      ]
     },
     "execution_count": 13,
     "metadata": {},
     "output_type": "execute_result"
    }
   ],
   "source": [
    "dfcantCorredoresVelocidad = pd.DataFrame(data=cantCorredoresVelocidad,index=['Veloz','Regular','Lento'],columns=['Categoria de Corredores'])\n",
    "dfcantCorredoresVelocidad"
   ]
  },
  {
   "cell_type": "code",
   "execution_count": 14,
   "metadata": {},
   "outputs": [
    {
     "data": {
      "text/plain": [
       "<AxesSubplot: >"
      ]
     },
     "execution_count": 14,
     "metadata": {},
     "output_type": "execute_result"
    },
    {
     "data": {
      "image/png": "[encoded data removed]",
      "text/plain": [
       "<Figure size 640x480 with 1 Axes>"
      ]
     },
     "metadata": {},
     "output_type": "display_data"
    }
   ],
   "source": [
    "dfcantCorredoresVelocidad.plot.bar(color='teal',legend=False)"
   ]
  },
  {
   "cell_type": "markdown",
   "metadata": {},
   "source": [
    "### Clasificacion de paises segun la cantidad de corredores ###\n",
    "\n",
    "Tomando solamente el \"Hogar\" de cada corredor podemos determinar a travez del metodo `value_counts()` podemos acceder a una serie de pandas que nos indica la cantidad de corredores de cada pais, tomando como index los paises y su data la cantidad de apariciones que tiene."
   ]
  },
  {
   "cell_type": "code",
   "execution_count": 15,
   "metadata": {},
   "outputs": [
    {
     "data": {
      "text/plain": [
       "NY     284\n",
       "GBR     87\n",
       "FRA     71\n",
       "NJ      61\n",
       "ITA     52\n",
       "      ... \n",
       "ME       1\n",
       "B.C      1\n",
       "ID       1\n",
       "KOR      1\n",
       "IN       1\n",
       "Name: Home, Length: 72, dtype: int64"
      ]
     },
     "execution_count": 15,
     "metadata": {},
     "output_type": "execute_result"
    }
   ],
   "source": [
    "dfScrappedCorredores['Home'].value_counts()"
   ]
  },
  {
   "cell_type": "markdown",
   "metadata": {},
   "source": [
    "A travez de esto podemos ver la cantidad de paises que participaron en el evento."
   ]
  },
  {
   "cell_type": "code",
   "execution_count": 16,
   "metadata": {},
   "outputs": [
    {
     "data": {
      "text/plain": [
       "72"
      ]
     },
     "execution_count": 16,
     "metadata": {},
     "output_type": "execute_result"
    }
   ],
   "source": [
    "dfScrappedCorredores['Home'].value_counts().size"
   ]
  },
  {
   "cell_type": "markdown",
   "metadata": {},
   "source": [
    "Podemos ver que participaron 72 paises, siendo el pais con mayor cantidad de participantes Nueva York.  \n",
    "Veamoslo en un grafico de barra."
   ]
  },
  {
   "cell_type": "code",
   "execution_count": 571,
   "metadata": {},
   "outputs": [
    {
     "data": {
      "text/plain": [
       "<AxesSubplot: xlabel='Paises', ylabel='Corredores por pais'>"
      ]
     },
     "execution_count": 571,
     "metadata": {},
     "output_type": "execute_result"
    },
    {
     "data": {
      "image/png": "[encoded data removed]",
      "text/plain": [
       "<Figure size 1500x500 with 1 Axes>"
      ]
     },
     "metadata": {},
     "output_type": "display_data"
    }
   ],
   "source": [
    "dfScrappedCorredores['Home'].value_counts().plot.bar(\n",
    "    color='crimson',\n",
    "    legend=False, \n",
    "    figsize=(15,5),\n",
    "    xlabel='Paises', \n",
    "    ylabel='Corredores por pais')"
   ]
  },
  {
   "cell_type": "markdown",
   "metadata": {},
   "source": [
    "Como vemos, en el evento la mayor cantidad de corredores vienen de Nueva York. Ademas, no solo tenemos eso, sino que podemos ver que mas del 25% de los corredores son de Nueva York, siendo el total de estos 999 (1000 era el total previo, para este analisis descartamos al corredor que no indicaba su \"Hogar\")"
   ]
  },
  {
   "cell_type": "markdown",
   "metadata": {},
   "source": [
    "### Clasificacion de corredores segun su edad ###\n",
    "\n",
    "Uno de los analisis que podemos hacer es analisar la cantidad de participantes clasificados segun su edad, con el objetivo de ver el promedio de edad de los corredores y tener una grafica de que corredores respecto a su edad."
   ]
  },
  {
   "cell_type": "code",
   "execution_count": 572,
   "metadata": {},
   "outputs": [
    {
     "data": {
      "text/plain": [
       "56"
      ]
     },
     "execution_count": 572,
     "metadata": {},
     "output_type": "execute_result"
    }
   ],
   "source": [
    "\"\"\"\n",
    "En este caso estamos tomando la columna 'Age', que es la columna de donde vamos a analizar la edad de los participantes.\n",
    "Utilizamos el metodo 'value_counts()' para contar la cantidad de corredores de esa edad en concreto.\n",
    "\"\"\"\n",
    "dfScrappedCorredores['Age'].value_counts().size"
   ]
  },
  {
   "cell_type": "markdown",
   "metadata": {},
   "source": [
    "A partir de esto podemos ver que la cantidad de edades de los competidores es de **56 años diferentes**.  \n"
   ]
  },
  {
   "cell_type": "code",
   "execution_count": 573,
   "metadata": {},
   "outputs": [
    {
     "data": {
      "text/plain": [
       "<AxesSubplot: xlabel='Corredores por edad', ylabel='Edad de los corredores'>"
      ]
     },
     "execution_count": 573,
     "metadata": {},
     "output_type": "execute_result"
    },
    {
     "data": {
      "image/png": "[encoded data removed]",
      "text/plain": [
       "<Figure size 1500x500 with 1 Axes>"
      ]
     },
     "metadata": {},
     "output_type": "display_data"
    }
   ],
   "source": [
    "dfScrappedCorredores['Age'].value_counts().plot.bar(\n",
    "        color='orangered',\n",
    "        legend=False, \n",
    "        figsize=(15,5),\n",
    "        xlabel='Corredores por edad', \n",
    "        ylabel='Edad de los corredores')"
   ]
  },
  {
   "cell_type": "markdown",
   "metadata": {},
   "source": [
    "En el grafico de arriba podemos observar que la mayor cantidad de corroderes son de 33 años... Pero el grafico muestra de mayor a menos segun la cantidad de corredores respecto a la edad.  \n",
    "Otra forma de verlo es si ordenamos el grafico de barras por los **corredores por edad** en lugar de la **edad de los corredores**"
   ]
  },
  {
   "cell_type": "code",
   "execution_count": 574,
   "metadata": {},
   "outputs": [
    {
     "data": {
      "text/plain": [
       "<AxesSubplot: xlabel='Corredores por edad', ylabel='Edad de los corredores'>"
      ]
     },
     "execution_count": 574,
     "metadata": {},
     "output_type": "execute_result"
    },
    {
     "data": {
      "image/png": "[encoded data removed]",
      "text/plain": [
       "<Figure size 1500x500 with 1 Axes>"
      ]
     },
     "metadata": {},
     "output_type": "display_data"
    }
   ],
   "source": [
    "\"\"\"\n",
    "Tambien usamos el metodo 'sort_index()' que ordena la Serie de forma decendente\n",
    "\"\"\"\n",
    "dfScrappedCorredores['Age'].value_counts().sort_index(ascending=False).plot.bar(\n",
    "    color='orangered',\n",
    "    legend=False, \n",
    "    figsize=(15,5),\n",
    "    xlabel='Corredores por edad', \n",
    "    ylabel='Edad de los corredores')"
   ]
  },
  {
   "cell_type": "markdown",
   "metadata": {},
   "source": [
    "Podemos ver que la mayoria de los corredores tienen una edad que ronda alrededor de los **30 a 33 años**, y tambien otro grupo mas chico entre los **40 y 42 años**. A partir de eso algunos de los grupos de corredores no son tan amplias."
   ]
  },
  {
   "cell_type": "markdown",
   "metadata": {},
   "source": [
    "### Clasificacion de corredores segun su genero ###\n",
    "\n",
    "Una cosa que podriamos ver por ejemplo es la cantidad de participantes hombres y mujeres. Vamos a utilizar el mismo metodo que el del punto anterior."
   ]
  },
  {
   "cell_type": "code",
   "execution_count": 575,
   "metadata": {},
   "outputs": [
    {
     "data": {
      "text/plain": [
       "Male      707\n",
       "Female    292\n",
       "Name: Gender, dtype: int64"
      ]
     },
     "execution_count": 575,
     "metadata": {},
     "output_type": "execute_result"
    }
   ],
   "source": [
    "dfScrappedCorredores['Gender'].value_counts()"
   ]
  },
  {
   "cell_type": "markdown",
   "metadata": {},
   "source": [
    "Podemos observar que en la competición hay **707 Hombres** y **292 Mujeres**"
   ]
  },
  {
   "cell_type": "code",
   "execution_count": 612,
   "metadata": {},
   "outputs": [
    {
     "data": {
      "text/plain": [
       "<AxesSubplot: xlabel='Genero de los corredores', ylabel='Cantidad de corredores'>"
      ]
     },
     "execution_count": 612,
     "metadata": {},
     "output_type": "execute_result"
    },
    {
     "data": {
      "image/png": "[encoded data removed]",
      "text/plain": [
       "<Figure size 1500x500 with 1 Axes>"
      ]
     },
     "metadata": {},
     "output_type": "display_data"
    }
   ],
   "source": [
    "dfScrappedCorredores['Gender'].value_counts().plot.bar(\n",
    "    color='teal',\n",
    "    legend=False, \n",
    "    figsize=(15,5),\n",
    "    xlabel='Genero de los corredores', \n",
    "    ylabel='Cantidad de corredores')"
   ]
  },
  {
   "cell_type": "markdown",
   "metadata": {},
   "source": [
    "Podemos observar por los resultados anteriores y por este grafico de barras que hay una mayoria de hombres en este evento deportivo."
   ]
  },
  {
   "cell_type": "markdown",
   "metadata": {},
   "source": [
    "### Corredores más rapidos de cada pais###\n",
    "\n",
    "Pudimos ver antes que Nueva York era el pais con mayor cantidad de corredores en el evento, pero ¿sera el lugar con los corredores mas rapidos?\n",
    "En este caso tomamos la columna del tiempo y buscamos el tiempo mas chico, que sería por ende el corredor mas rapido."
   ]
  },
  {
   "cell_type": "code",
   "execution_count": 613,
   "metadata": {},
   "outputs": [
    {
     "data": {
      "text/plain": [
       "147.3333333"
      ]
     },
     "execution_count": 613,
     "metadata": {},
     "output_type": "execute_result"
    }
   ],
   "source": [
    "dfScrappedCorredores['Time'].min()"
   ]
  },
  {
   "cell_type": "markdown",
   "metadata": {},
   "source": [
    "El tiempo mas corto fue de **147.33**.  \n",
    "Ahora con este dato buscaremos cual fue el corredor mas rapido, con sus respectivos datos."
   ]
  },
  {
   "cell_type": "code",
   "execution_count": 614,
   "metadata": {},
   "outputs": [
    {
     "data": {
      "text/html": [
       "<div>\n",
       "<style scoped>\n",
       "    .dataframe tbody tr th:only-of-type {\n",
       "        vertical-align: middle;\n",
       "    }\n",
       "\n",
       "    .dataframe tbody tr th {\n",
       "        vertical-align: top;\n",
       "    }\n",
       "\n",
       "    .dataframe thead th {\n",
       "        text-align: right;\n",
       "    }\n",
       "</style>\n",
       "<table border=\"1\" class=\"dataframe\">\n",
       "  <thead>\n",
       "    <tr style=\"text-align: right;\">\n",
       "      <th></th>\n",
       "      <th>Place</th>\n",
       "      <th>Gender</th>\n",
       "      <th>Age</th>\n",
       "      <th>Home</th>\n",
       "      <th>Time</th>\n",
       "      <th>Velocity</th>\n",
       "    </tr>\n",
       "  </thead>\n",
       "  <tbody>\n",
       "    <tr>\n",
       "      <th>764</th>\n",
       "      <td>54</td>\n",
       "      <td>Male</td>\n",
       "      <td>37</td>\n",
       "      <td>AK</td>\n",
       "      <td>147.333333</td>\n",
       "      <td>Veloz</td>\n",
       "    </tr>\n",
       "  </tbody>\n",
       "</table>\n",
       "</div>"
      ],
      "text/plain": [
       "     Place Gender  Age Home        Time Velocity\n",
       "764     54   Male   37   AK  147.333333    Veloz"
      ]
     },
     "execution_count": 614,
     "metadata": {},
     "output_type": "execute_result"
    }
   ],
   "source": [
    "dfScrappedCorredores.loc[dfScrappedCorredores['Time'] == dfScrappedCorredores['Time'].min()]"
   ]
  },
  {
   "cell_type": "markdown",
   "metadata": {},
   "source": [
    "Este sería el corredor mas rapido del evento que nos figura en nuestros datos. Es un corredor de origen **AK -> Alaska**, con una edad de **37 años**"
   ]
  },
  {
   "cell_type": "code",
   "execution_count": 635,
   "metadata": {},
   "outputs": [
    {
     "data": {
      "text/plain": [
       "<AxesSubplot: xlabel='Paises', ylabel='Tiempo de los corredores'>"
      ]
     },
     "execution_count": 635,
     "metadata": {},
     "output_type": "execute_result"
    },
    {
     "data": {
      "image/png": "[encoded data removed]",
      "text/plain": [
       "<Figure size 1500x500 with 1 Axes>"
      ]
     },
     "metadata": {},
     "output_type": "display_data"
    }
   ],
   "source": [
    "\"\"\"\n",
    "En este caso hacemos un 'sort_values' tomando como referencia la columna de tiempo.\n",
    "Copiamos el nuevo dataFrame y quitamos los duplicados de los Hogares de los corredores, quedando\n",
    "unicamente los mas rapidos.\n",
    "\"\"\"\n",
    "\n",
    "dfaux = dfScrappedCorredores.sort_values(by=['Time']).copy()\n",
    "dfaux.drop_duplicates(subset=[\"Home\"], keep=False).plot.bar(\n",
    "    x='Home',\n",
    "    y='Time',\n",
    "    color='forestgreen',\n",
    "    legend=False, \n",
    "    figsize=(15,5),\n",
    "    xlabel='Paises', \n",
    "    ylabel='Tiempo de los corredores')"
   ]
  },
  {
   "cell_type": "markdown",
   "metadata": {},
   "source": [
    "En este caso podemos observar que estos fueron los paises con mejores tiempos en la carrera, de los cuales en ninguno de ellos encontramos a Nueva York. "
   ]
  },
  {
   "cell_type": "markdown",
   "metadata": {},
   "source": [
    "----------------------------------------------------------------------------------------------------------------------------------------------------"
   ]
  },
  {
   "cell_type": "markdown",
   "metadata": {},
   "source": [
    "## Matriz de correlación  \n",
    "\n",
    "Ahora procedamos a crear una matriz de correlación entre los datos del *dataFrame* :rage3:"
   ]
  },
  {
   "cell_type": "code",
   "execution_count": 636,
   "metadata": {},
   "outputs": [
    {
     "name": "stderr",
     "output_type": "stream",
     "text": [
      "C:\\Users\\Lucas\\AppData\\Local\\Temp\\ipykernel_16432\\4294091214.py:1: FutureWarning: The default value of numeric_only in DataFrame.corr is deprecated. In a future version, it will default to False. Select only valid columns or specify the value of numeric_only to silence this warning.\n",
      "  corrCorredores = dfCorredores.corr()\n"
     ]
    }
   ],
   "source": [
    "corrCorredores = dfCorredores.corr()"
   ]
  },
  {
   "cell_type": "markdown",
   "metadata": {},
   "source": [
    "Corroboramos la integridad de los datos obtenidos"
   ]
  },
  {
   "cell_type": "code",
   "execution_count": 637,
   "metadata": {},
   "outputs": [
    {
     "data": {
      "text/html": [
       "<div>\n",
       "<style scoped>\n",
       "    .dataframe tbody tr th:only-of-type {\n",
       "        vertical-align: middle;\n",
       "    }\n",
       "\n",
       "    .dataframe tbody tr th {\n",
       "        vertical-align: top;\n",
       "    }\n",
       "\n",
       "    .dataframe thead th {\n",
       "        text-align: right;\n",
       "    }\n",
       "</style>\n",
       "<table border=\"1\" class=\"dataframe\">\n",
       "  <thead>\n",
       "    <tr style=\"text-align: right;\">\n",
       "      <th></th>\n",
       "      <th>ID</th>\n",
       "      <th>Place</th>\n",
       "      <th>Age</th>\n",
       "      <th>Time</th>\n",
       "    </tr>\n",
       "  </thead>\n",
       "  <tbody>\n",
       "    <tr>\n",
       "      <th>ID</th>\n",
       "      <td>1.000000</td>\n",
       "      <td>0.999997</td>\n",
       "      <td>0.146943</td>\n",
       "      <td>0.929480</td>\n",
       "    </tr>\n",
       "    <tr>\n",
       "      <th>Place</th>\n",
       "      <td>0.999997</td>\n",
       "      <td>1.000000</td>\n",
       "      <td>0.146799</td>\n",
       "      <td>0.929343</td>\n",
       "    </tr>\n",
       "    <tr>\n",
       "      <th>Age</th>\n",
       "      <td>0.146943</td>\n",
       "      <td>0.146799</td>\n",
       "      <td>1.000000</td>\n",
       "      <td>0.189867</td>\n",
       "    </tr>\n",
       "    <tr>\n",
       "      <th>Time</th>\n",
       "      <td>0.929480</td>\n",
       "      <td>0.929343</td>\n",
       "      <td>0.189867</td>\n",
       "      <td>1.000000</td>\n",
       "    </tr>\n",
       "  </tbody>\n",
       "</table>\n",
       "</div>"
      ],
      "text/plain": [
       "             ID     Place       Age      Time\n",
       "ID     1.000000  0.999997  0.146943  0.929480\n",
       "Place  0.999997  1.000000  0.146799  0.929343\n",
       "Age    0.146943  0.146799  1.000000  0.189867\n",
       "Time   0.929480  0.929343  0.189867  1.000000"
      ]
     },
     "execution_count": 637,
     "metadata": {},
     "output_type": "execute_result"
    }
   ],
   "source": [
    "corrCorredores"
   ]
  },
  {
   "cell_type": "code",
   "execution_count": 638,
   "metadata": {},
   "outputs": [
    {
     "data": {
      "text/plain": [
       "<AxesSubplot: >"
      ]
     },
     "execution_count": 638,
     "metadata": {},
     "output_type": "execute_result"
    },
    {
     "data": {
      "image/png": "[encoded data removed]",
      "text/plain": [
       "<Figure size 1200x800 with 2 Axes>"
      ]
     },
     "metadata": {},
     "output_type": "display_data"
    }
   ],
   "source": [
    "plt.subplots(figsize=(12,8))\n",
    "sns.heatmap(corrCorredores, xticklabels=corrCorredores.columns, yticklabels=corrCorredores.columns, annot=True, fmt='.0%',\n",
    "            cmap=sns.diverging_palette(240, 10, as_cmap=True)) "
   ]
  },
  {
   "cell_type": "markdown",
   "metadata": {},
   "source": [
    "Podemos observar que se perdieron algunas columnas.\n",
    "Debido a esto, necesitaremos una forma de transformar los datos de estas columnas en algo manejable.  \n",
    "\n",
    "De todas formas vale aclarar que para esto en especifico se creara una variable aparte que se usara para este caso. Hay ciertos datos de esta tabla que luego seran utilizados para analisis predictivo, por lo que no necesitaremos de este dato mas adelante."
   ]
  },
  {
   "cell_type": "markdown",
   "metadata": {},
   "source": [
    "### Matriz de correlacion - Cambio de datos del Corr"
   ]
  },
  {
   "cell_type": "code",
   "execution_count": 639,
   "metadata": {},
   "outputs": [],
   "source": [
    "dfCorrCorredores = dfCorredores.copy()\n",
    "dfCorrCorredores['Home']=dfCorrCorredores['Home'].astype('category').cat.codes\n",
    "dfCorrCorredores['Velocity']=dfCorrCorredores['Velocity'].astype('category').cat.codes\n",
    "dfCorrCorredores['Gender']=dfCorrCorredores['Gender'].astype('category').cat.codes\n",
    "del dfCorrCorredores['ID']\n"
   ]
  },
  {
   "cell_type": "code",
   "execution_count": 640,
   "metadata": {},
   "outputs": [
    {
     "data": {
      "text/html": [
       "<div>\n",
       "<style scoped>\n",
       "    .dataframe tbody tr th:only-of-type {\n",
       "        vertical-align: middle;\n",
       "    }\n",
       "\n",
       "    .dataframe tbody tr th {\n",
       "        vertical-align: top;\n",
       "    }\n",
       "\n",
       "    .dataframe thead th {\n",
       "        text-align: right;\n",
       "    }\n",
       "</style>\n",
       "<table border=\"1\" class=\"dataframe\">\n",
       "  <thead>\n",
       "    <tr style=\"text-align: right;\">\n",
       "      <th></th>\n",
       "      <th>Place</th>\n",
       "      <th>Gender</th>\n",
       "      <th>Age</th>\n",
       "      <th>Home</th>\n",
       "      <th>Time</th>\n",
       "      <th>Velocity</th>\n",
       "    </tr>\n",
       "  </thead>\n",
       "  <tbody>\n",
       "    <tr>\n",
       "      <th>0</th>\n",
       "      <td>3592</td>\n",
       "      <td>1</td>\n",
       "      <td>52</td>\n",
       "      <td>23</td>\n",
       "      <td>217.483333</td>\n",
       "      <td>1</td>\n",
       "    </tr>\n",
       "    <tr>\n",
       "      <th>1</th>\n",
       "      <td>13853</td>\n",
       "      <td>0</td>\n",
       "      <td>40</td>\n",
       "      <td>50</td>\n",
       "      <td>272.550000</td>\n",
       "      <td>1</td>\n",
       "    </tr>\n",
       "    <tr>\n",
       "      <th>2</th>\n",
       "      <td>12256</td>\n",
       "      <td>1</td>\n",
       "      <td>31</td>\n",
       "      <td>20</td>\n",
       "      <td>265.283333</td>\n",
       "      <td>1</td>\n",
       "    </tr>\n",
       "    <tr>\n",
       "      <th>3</th>\n",
       "      <td>10457</td>\n",
       "      <td>0</td>\n",
       "      <td>33</td>\n",
       "      <td>41</td>\n",
       "      <td>256.150000</td>\n",
       "      <td>1</td>\n",
       "    </tr>\n",
       "    <tr>\n",
       "      <th>4</th>\n",
       "      <td>9686</td>\n",
       "      <td>1</td>\n",
       "      <td>33</td>\n",
       "      <td>50</td>\n",
       "      <td>252.250000</td>\n",
       "      <td>1</td>\n",
       "    </tr>\n",
       "    <tr>\n",
       "      <th>5</th>\n",
       "      <td>1784</td>\n",
       "      <td>1</td>\n",
       "      <td>40</td>\n",
       "      <td>47</td>\n",
       "      <td>201.966667</td>\n",
       "      <td>1</td>\n",
       "    </tr>\n",
       "    <tr>\n",
       "      <th>6</th>\n",
       "      <td>16020</td>\n",
       "      <td>0</td>\n",
       "      <td>30</td>\n",
       "      <td>9</td>\n",
       "      <td>283.566667</td>\n",
       "      <td>1</td>\n",
       "    </tr>\n",
       "    <tr>\n",
       "      <th>7</th>\n",
       "      <td>10805</td>\n",
       "      <td>1</td>\n",
       "      <td>27</td>\n",
       "      <td>23</td>\n",
       "      <td>255.883333</td>\n",
       "      <td>1</td>\n",
       "    </tr>\n",
       "    <tr>\n",
       "      <th>8</th>\n",
       "      <td>12201</td>\n",
       "      <td>1</td>\n",
       "      <td>42</td>\n",
       "      <td>45</td>\n",
       "      <td>264.250000</td>\n",
       "      <td>1</td>\n",
       "    </tr>\n",
       "    <tr>\n",
       "      <th>9</th>\n",
       "      <td>19266</td>\n",
       "      <td>1</td>\n",
       "      <td>48</td>\n",
       "      <td>5</td>\n",
       "      <td>306.683333</td>\n",
       "      <td>0</td>\n",
       "    </tr>\n",
       "    <tr>\n",
       "      <th>10</th>\n",
       "      <td>15229</td>\n",
       "      <td>0</td>\n",
       "      <td>63</td>\n",
       "      <td>23</td>\n",
       "      <td>281.266667</td>\n",
       "      <td>1</td>\n",
       "    </tr>\n",
       "    <tr>\n",
       "      <th>11</th>\n",
       "      <td>15260</td>\n",
       "      <td>1</td>\n",
       "      <td>49</td>\n",
       "      <td>30</td>\n",
       "      <td>280.250000</td>\n",
       "      <td>1</td>\n",
       "    </tr>\n",
       "    <tr>\n",
       "      <th>12</th>\n",
       "      <td>10670</td>\n",
       "      <td>1</td>\n",
       "      <td>33</td>\n",
       "      <td>50</td>\n",
       "      <td>258.333333</td>\n",
       "      <td>1</td>\n",
       "    </tr>\n",
       "    <tr>\n",
       "      <th>13</th>\n",
       "      <td>10658</td>\n",
       "      <td>1</td>\n",
       "      <td>43</td>\n",
       "      <td>50</td>\n",
       "      <td>257.133333</td>\n",
       "      <td>1</td>\n",
       "    </tr>\n",
       "    <tr>\n",
       "      <th>14</th>\n",
       "      <td>200</td>\n",
       "      <td>1</td>\n",
       "      <td>40</td>\n",
       "      <td>24</td>\n",
       "      <td>163.933333</td>\n",
       "      <td>2</td>\n",
       "    </tr>\n",
       "  </tbody>\n",
       "</table>\n",
       "</div>"
      ],
      "text/plain": [
       "    Place  Gender  Age  Home        Time  Velocity\n",
       "0    3592       1   52    23  217.483333         1\n",
       "1   13853       0   40    50  272.550000         1\n",
       "2   12256       1   31    20  265.283333         1\n",
       "3   10457       0   33    41  256.150000         1\n",
       "4    9686       1   33    50  252.250000         1\n",
       "5    1784       1   40    47  201.966667         1\n",
       "6   16020       0   30     9  283.566667         1\n",
       "7   10805       1   27    23  255.883333         1\n",
       "8   12201       1   42    45  264.250000         1\n",
       "9   19266       1   48     5  306.683333         0\n",
       "10  15229       0   63    23  281.266667         1\n",
       "11  15260       1   49    30  280.250000         1\n",
       "12  10670       1   33    50  258.333333         1\n",
       "13  10658       1   43    50  257.133333         1\n",
       "14    200       1   40    24  163.933333         2"
      ]
     },
     "execution_count": 640,
     "metadata": {},
     "output_type": "execute_result"
    }
   ],
   "source": [
    "dfCorrCorredores.head(15)"
   ]
  },
  {
   "cell_type": "code",
   "execution_count": 641,
   "metadata": {},
   "outputs": [
    {
     "data": {
      "text/html": [
       "<div>\n",
       "<style scoped>\n",
       "    .dataframe tbody tr th:only-of-type {\n",
       "        vertical-align: middle;\n",
       "    }\n",
       "\n",
       "    .dataframe tbody tr th {\n",
       "        vertical-align: top;\n",
       "    }\n",
       "\n",
       "    .dataframe thead th {\n",
       "        text-align: right;\n",
       "    }\n",
       "</style>\n",
       "<table border=\"1\" class=\"dataframe\">\n",
       "  <thead>\n",
       "    <tr style=\"text-align: right;\">\n",
       "      <th></th>\n",
       "      <th>Place</th>\n",
       "      <th>Gender</th>\n",
       "      <th>Age</th>\n",
       "      <th>Home</th>\n",
       "      <th>Time</th>\n",
       "      <th>Velocity</th>\n",
       "    </tr>\n",
       "  </thead>\n",
       "  <tbody>\n",
       "    <tr>\n",
       "      <th>Place</th>\n",
       "      <td>1.000000</td>\n",
       "      <td>-0.220786</td>\n",
       "      <td>0.146799</td>\n",
       "      <td>0.035735</td>\n",
       "      <td>0.929343</td>\n",
       "      <td>-0.785993</td>\n",
       "    </tr>\n",
       "    <tr>\n",
       "      <th>Gender</th>\n",
       "      <td>-0.220786</td>\n",
       "      <td>1.000000</td>\n",
       "      <td>0.218325</td>\n",
       "      <td>-0.053148</td>\n",
       "      <td>-0.196367</td>\n",
       "      <td>0.162445</td>\n",
       "    </tr>\n",
       "    <tr>\n",
       "      <th>Age</th>\n",
       "      <td>0.146799</td>\n",
       "      <td>0.218325</td>\n",
       "      <td>1.000000</td>\n",
       "      <td>-0.071978</td>\n",
       "      <td>0.189867</td>\n",
       "      <td>-0.090894</td>\n",
       "    </tr>\n",
       "    <tr>\n",
       "      <th>Home</th>\n",
       "      <td>0.035735</td>\n",
       "      <td>-0.053148</td>\n",
       "      <td>-0.071978</td>\n",
       "      <td>1.000000</td>\n",
       "      <td>0.030243</td>\n",
       "      <td>-0.003194</td>\n",
       "    </tr>\n",
       "    <tr>\n",
       "      <th>Time</th>\n",
       "      <td>0.929343</td>\n",
       "      <td>-0.196367</td>\n",
       "      <td>0.189867</td>\n",
       "      <td>0.030243</td>\n",
       "      <td>1.000000</td>\n",
       "      <td>-0.813704</td>\n",
       "    </tr>\n",
       "    <tr>\n",
       "      <th>Velocity</th>\n",
       "      <td>-0.785993</td>\n",
       "      <td>0.162445</td>\n",
       "      <td>-0.090894</td>\n",
       "      <td>-0.003194</td>\n",
       "      <td>-0.813704</td>\n",
       "      <td>1.000000</td>\n",
       "    </tr>\n",
       "  </tbody>\n",
       "</table>\n",
       "</div>"
      ],
      "text/plain": [
       "             Place    Gender       Age      Home      Time  Velocity\n",
       "Place     1.000000 -0.220786  0.146799  0.035735  0.929343 -0.785993\n",
       "Gender   -0.220786  1.000000  0.218325 -0.053148 -0.196367  0.162445\n",
       "Age       0.146799  0.218325  1.000000 -0.071978  0.189867 -0.090894\n",
       "Home      0.035735 -0.053148 -0.071978  1.000000  0.030243 -0.003194\n",
       "Time      0.929343 -0.196367  0.189867  0.030243  1.000000 -0.813704\n",
       "Velocity -0.785993  0.162445 -0.090894 -0.003194 -0.813704  1.000000"
      ]
     },
     "execution_count": 641,
     "metadata": {},
     "output_type": "execute_result"
    }
   ],
   "source": [
    "corrCorredores = dfCorrCorredores.corr()\n",
    "corrCorredores"
   ]
  },
  {
   "cell_type": "code",
   "execution_count": 642,
   "metadata": {},
   "outputs": [
    {
     "data": {
      "text/plain": [
       "<AxesSubplot: >"
      ]
     },
     "execution_count": 642,
     "metadata": {},
     "output_type": "execute_result"
    },
    {
     "data": {
      "image/png": "[encoded data removed]",
      "text/plain": [
       "<Figure size 1200x800 with 2 Axes>"
      ]
     },
     "metadata": {},
     "output_type": "display_data"
    }
   ],
   "source": [
    "\n",
    "plt.subplots(figsize=(12,8))\n",
    "sns.heatmap(corrCorredores, xticklabels=corrCorredores.columns, yticklabels=corrCorredores.columns, annot=True, fmt='.0%',\n",
    "            cmap=sns.diverging_palette(240, 10, as_cmap=True)) "
   ]
  },
  {
   "cell_type": "code",
   "execution_count": 643,
   "metadata": {},
   "outputs": [
    {
     "data": {
      "text/plain": [
       "Place       1.000000\n",
       "Time        0.929343\n",
       "Velocity    0.785993\n",
       "Gender      0.220786\n",
       "Age         0.146799\n",
       "Home        0.035735\n",
       "Name: Place, dtype: float64"
      ]
     },
     "execution_count": 643,
     "metadata": {},
     "output_type": "execute_result"
    }
   ],
   "source": [
    "corrCorredores['Place'].abs().sort_values(ascending=False)"
   ]
  },
  {
   "cell_type": "code",
   "execution_count": 644,
   "metadata": {},
   "outputs": [
    {
     "data": {
      "text/plain": [
       "Text(0.5, 0, 'Velocidad promedio de los corredores')"
      ]
     },
     "execution_count": 644,
     "metadata": {},
     "output_type": "execute_result"
    },
    {
     "data": {
      "image/png": "[encoded data removed]",
      "text/plain": [
       "<Figure size 800x600 with 1 Axes>"
      ]
     },
     "metadata": {},
     "output_type": "display_data"
    }
   ],
   "source": [
    "fig, ax1 = plt.subplots(figsize=(8,6))\n",
    "ax1.hist(dfCorrCorredores.Velocity,align='left',alpha=0.5)\n",
    "ax1.set_xlabel('Velocidad promedio de los corredores')\n"
   ]
  },
  {
   "cell_type": "code",
   "execution_count": null,
   "metadata": {},
   "outputs": [],
   "source": []
  }
 ],
 "metadata": {
  "kernelspec": {
   "display_name": "Python 3.10.6 64-bit",
   "language": "python",
   "name": "python3"
  },
  "language_info": {
   "codemirror_mode": {
    "name": "ipython",
    "version": 3
   },
   "file_extension": ".py",
   "mimetype": "text/x-python",
   "name": "python",
   "nbconvert_exporter": "python",
   "pygments_lexer": "ipython3",
   "version": "3.10.6"
  },
  "orig_nbformat": 4,
  "vscode": {
   "interpreter": {
    "hash": "0f4aad36e1a7834f44c14e84b98527cfbefef55e7a336cfec74130d804d73c8f"
   }
  }
 },
 "nbformat": 4,
 "nbformat_minor": 2
}
